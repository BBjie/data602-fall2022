{
  "cells": [
    {
      "cell_type": "markdown",
      "source": [
        "# Editing and running Python commands in Colab"
      ],
      "metadata": {
        "id": "OiwvjDTv3E4Z"
      }
    },
    {
      "cell_type": "markdown",
      "metadata": {
        "id": "mfhISa2m2mvn"
      },
      "source": [
        "This assignment is intended to ensure that you are able to edit and submit Jupyter Notebooks. \n",
        "\n",
        "The goal is to write a function to count the frequency of different characters in a given string. For example: character_frequency('google') should return a `dict`: {'g': 2, 'o': 2, 'l': 1, 'e': 1}. \n",
        "\n",
        "There are many tutorials on the web that can show you how to use the Python data structures. Quite a few examples at: https://docs.python.org/3/tutorial/datastructures.html\n",
        "\n",
        "If you have any trouble with this at all (and we are sure at least some of you will), don't worry and stop by our office hours.\n",
        "\n",
        "You should edit the function definition below, make sure to press 'Shift + Enter' to execute it, and then execute the two function calls to check that the output is correct."
      ]
    },
    {
      "cell_type": "code",
      "execution_count": null,
      "metadata": {
        "collapsed": true,
        "id": "2MyAwMYp2mvt"
      },
      "outputs": [],
      "source": [
        "def character_frequency(s):\n",
        "    ret = dict()\n",
        "    ret['0'] = 0\n",
        "    ret['1'] = 1\n",
        "    return ret"
      ]
    },
    {
      "cell_type": "code",
      "execution_count": null,
      "metadata": {
        "colab": {
          "base_uri": "https://localhost:8080/"
        },
        "id": "RDXWPZJa2mvw",
        "outputId": "defd55ad-cd52-4e60-ea11-e1404f718464"
      },
      "outputs": [
        {
          "output_type": "execute_result",
          "data": {
            "text/plain": [
              "{'0': 0, '1': 1}"
            ]
          },
          "metadata": {},
          "execution_count": 2
        }
      ],
      "source": [
        "character_frequency('google')"
      ]
    },
    {
      "cell_type": "code",
      "execution_count": null,
      "metadata": {
        "colab": {
          "base_uri": "https://localhost:8080/"
        },
        "id": "3vtO44O02mvx",
        "outputId": "cee9c186-9b3d-4713-978a-3ce94956a68c"
      },
      "outputs": [
        {
          "output_type": "execute_result",
          "data": {
            "text/plain": [
              "{'0': 0, '1': 1}"
            ]
          },
          "metadata": {},
          "execution_count": 3
        }
      ],
      "source": [
        "character_frequency('This assignment is intended to ensure that you are able to edit and submit Jupyter Notebooks.')"
      ]
    },
    {
      "cell_type": "code",
      "execution_count": null,
      "metadata": {
        "collapsed": true,
        "id": "SNRNQB5t2mvy"
      },
      "outputs": [],
      "source": []
    }
  ],
  "metadata": {
    "kernelspec": {
      "display_name": "Python 3",
      "language": "python",
      "name": "python3"
    },
    "language_info": {
      "codemirror_mode": {
        "name": "ipython",
        "version": 3
      },
      "file_extension": ".py",
      "mimetype": "text/x-python",
      "name": "python",
      "nbconvert_exporter": "python",
      "pygments_lexer": "ipython3",
      "version": "3.6.1"
    },
    "colab": {
      "provenance": []
    }
  },
  "nbformat": 4,
  "nbformat_minor": 0
}